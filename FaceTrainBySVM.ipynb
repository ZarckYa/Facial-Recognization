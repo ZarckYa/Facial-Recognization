{
 "cells": [
  {
   "cell_type": "code",
   "execution_count": 1,
   "id": "8ef92afd",
   "metadata": {},
   "outputs": [],
   "source": [
    "#Import useful libraries\n",
    "import json\n",
    "import os\n",
    "import cv2\n",
    "import numpy as np\n",
    "import tensorflow as tf\n",
    "import matplotlib.pyplot as plt\n",
    "import joblib\n",
    "from sklearn.model_selection import train_test_split\n",
    "from sklearn.svm import SVC\n",
    "from sklearn.decomposition import PCA\n",
    "from sklearn.metrics import classification_report,confusion_matrix\n",
    "from sklearn.model_selection import GridSearchCV\n",
    "from tensorflow.keras import utils\n",
    "from LoadFaceData import read_path, resize_image, IMAGE_SIZE, load_dataset"
   ]
  },
  {
   "cell_type": "code",
   "execution_count": 2,
   "id": "49dc7328",
   "metadata": {},
   "outputs": [
    {
     "name": "stdout",
     "output_type": "stream",
     "text": [
      "(4052, 4096)\n",
      "(4052,)\n"
     ]
    }
   ],
   "source": [
    "#Define some useful variables\n",
    "Ourfaceimage = []\n",
    "Ourfacelabel = []\n",
    "faceimage = []\n",
    "frame_gray = []\n",
    "\n",
    "#Read the face pictures from our path, form of list\n",
    "faceimages, facelabel = read_path(\"D:\\Limerick course year 4\\AI & FYP\\Conda Jupyter notebook\\My AI Folder\\FYP\\Facial Recognization By SVM\\Facial data\")\n",
    "\n",
    "#transfer the labels list in to data\n",
    "facelabel = np.array(facelabel)\n",
    "\n",
    "#Get the number of face, which is depended by number the pictures files\n",
    "labels1 = list(set(facelabel))\n",
    "face_num = len(labels1)\n",
    "\n",
    "# Store the test name into a dic called constrast_table. \n",
    "num = [i for i in range(face_num)]\n",
    "contrast_table = dict(zip(num, labels1))\n",
    "with open('contrast_table', 'w') as f:\n",
    "    f.write(json.dumps(contrast_table))\n",
    "\n",
    "'''\n",
    "# 样本集的形状\n",
    "print(faces.images.shape)\n",
    "\n",
    "faceimage = np.array(faceimage)\n",
    "faceimage = faceimage.reshape(-1, IMAGE_SIZE*IMAGE_SIZE*3)\n",
    "\n",
    "print(faceimage.shape)\n",
    "print(facelabel)\n",
    "print(facelabel.shape)'''\n",
    "\n",
    "#Go through all images, transfer ot into grey picture.\n",
    "for face_image in faceimages:\n",
    "    frame_gray.append(cv2.cvtColor(face_image, cv2.COLOR_BGR2GRAY))\n",
    "\n",
    "#Transfer all picture into array, and reshape the array into two Dim.ayyay content: [number of pictures, IMAGE_SIZE*IMAGE_SIZE] \n",
    "frame_gray = np.array(frame_gray)\n",
    "face_image = frame_gray.reshape(-1, IMAGE_SIZE*IMAGE_SIZE)\n",
    "\n",
    "#USing the split to seperate the raw data into train image, train labels, test images, testl labels.\n",
    "xtrain, xtest, ytrain, ytest = train_test_split(face_image, facelabel,\n",
    "                                                random_state=2)\n",
    "\n",
    "#Pirnt out the shape of train set(images and labels) shape \n",
    "print(xtrain.shape)\n",
    "print(ytrain.shape)"
   ]
  },
  {
   "cell_type": "code",
   "execution_count": 3,
   "id": "f0e90440",
   "metadata": {},
   "outputs": [
    {
     "name": "stdout",
     "output_type": "stream",
     "text": [
      "(1351, 150)\n",
      "(1351, 4096)\n"
     ]
    }
   ],
   "source": [
    "# DO the PCA precess in this pictures, and keep 100 Dims\n",
    "n_components =150\n",
    "\n",
    "# Train the PCA\n",
    "pca = PCA(n_components=n_components, svd_solver='randomized',\n",
    "          whiten=True, random_state=42).fit(xtrain)\n",
    "\n",
    "# Decease the dimention in these train sets.\n",
    "xtrain_pca = pca.transform(xtrain)\n",
    "xtest_pca = pca.transform(xtest)\n",
    "\n",
    "print(xtest_pca.shape)\n",
    "print(xtest.shape)"
   ]
  },
  {
   "cell_type": "code",
   "execution_count": 4,
   "id": "5e60ddd8",
   "metadata": {},
   "outputs": [
    {
     "name": "stdout",
     "output_type": "stream",
     "text": [
      "              precision    recall  f1-score   support\n",
      "\n",
      " Zhongen Qin       1.00      0.99      0.99       256\n",
      " Jiahao Wang       0.55      1.00      0.71       390\n",
      "     Yuan Li       1.00      0.79      0.88       252\n",
      " Xingda Zhou       1.00      0.02      0.03       115\n",
      " Jufeng Yang       1.00      0.25      0.40       192\n",
      "     Yuxi Wu       1.00      0.93      0.96       146\n",
      "\n",
      "    accuracy                           0.76      1351\n",
      "   macro avg       0.92      0.66      0.66      1351\n",
      "weighted avg       0.87      0.76      0.72      1351\n",
      "\n"
     ]
    }
   ],
   "source": [
    "#Training a Model\n",
    "\n",
    "#Define some useful variables.\n",
    "names = []\n",
    "\n",
    "#Open the contrast_tabels, which is a dictionary, like: 0: \"Jufeng Yang\", 1: \"Jiahao Wang\".\n",
    "with open('contrast_table', 'r') as f:\n",
    "            contrast_table = json.loads(f.read())\n",
    "#Instantial a SVM.Arguments is \"RBF\", C = 0.05 \n",
    "svc = SVC(kernel='rbf',C=0.05)\n",
    "\n",
    "# Train a SVM\n",
    "svc.fit(xtrain_pca, ytrain)\n",
    "\n",
    "#Save a  model, used to predict new pictures\n",
    "joblib.dump(svc, \"my_SVM_model.m\")\n",
    "\n",
    "#Predict based on the test dataset splits.\n",
    "yfit = svc.predict(xtest_pca)\n",
    "for i in range(face_num):\n",
    "    names.append(contrast_table[str(i)])\n",
    "names = np.array(names)\n",
    "\n",
    "#Pirnt a summary report.\n",
    "print(classification_report(ytest, yfit,\n",
    "                            target_names=names))"
   ]
  },
  {
   "cell_type": "code",
   "execution_count": 6,
   "id": "e85969dc",
   "metadata": {},
   "outputs": [
    {
     "name": "stdout",
     "output_type": "stream",
     "text": [
      "Accuracy: 0.660480735242135\n"
     ]
    }
   ],
   "source": [
    "# PCA processing of face data, retaining 100-dimensional features\n",
    "#n_components =30\n",
    "Pre_names = []\n",
    "counter = 0\n",
    "right_counter = 0\n",
    "test_frame_gray = []\n",
    "Predictresult = []\n",
    "#Read the face pictures from our path\n",
    "Testfaceimages, _= read_path(\"D:\\Limerick course year 4\\AI & FYP\\Conda Jupyter notebook\\My AI Folder\\FYP\\Facial Recognization By SVM\\Test face\\Jufeng Yang\")\n",
    "\n",
    "for face_image in Testfaceimages:\n",
    "    test_frame_gray.append(cv2.cvtColor(face_image, cv2.COLOR_BGR2GRAY))\n",
    "test_frame_gray = np.array(test_frame_gray)\n",
    "Testfaceimage = test_frame_gray.reshape(-1, IMAGE_SIZE*IMAGE_SIZE)\n",
    "\n",
    "#print(Testfaceimage.shape)\n",
    "\n",
    "with open('contrast_table', 'r') as f:\n",
    "            contrast_table = json.loads(f.read())\n",
    "\n",
    "# Training for PCA\n",
    "pca = PCA(n_components=n_components, svd_solver='randomized',\n",
    "          whiten=True, random_state=42).fit(Testfaceimage)\n",
    "\n",
    "Test_face = pca.transform(Testfaceimage)\n",
    "\n",
    "load_SVM = joblib.load(\"my_SVM_model.m\")\n",
    "\n",
    "Predictresult = load_SVM.predict(Test_face)\n",
    "#print(Predictresult)\n",
    "for i in Predictresult:\n",
    "    counter += 1\n",
    "    if i == \"Jufeng Yang\":\n",
    "        right_counter += 1\n",
    "print(\"Accuracy:\", right_counter/counter)        "
   ]
  },
  {
   "cell_type": "code",
   "execution_count": null,
   "id": "42dfa8f5",
   "metadata": {},
   "outputs": [],
   "source": []
  }
 ],
 "metadata": {
  "kernelspec": {
   "display_name": "Tensorflow2-GPU",
   "language": "python",
   "name": "tensorflow2-gpu"
  },
  "language_info": {
   "codemirror_mode": {
    "name": "ipython",
    "version": 3
   },
   "file_extension": ".py",
   "mimetype": "text/x-python",
   "name": "python",
   "nbconvert_exporter": "python",
   "pygments_lexer": "ipython3",
   "version": "3.7.11"
  }
 },
 "nbformat": 4,
 "nbformat_minor": 5
}
